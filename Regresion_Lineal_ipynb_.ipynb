{
  "cells": [
    {
      "cell_type": "markdown",
      "metadata": {
        "id": "view-in-github",
        "colab_type": "text"
      },
      "source": [
        "<a href=\"https://colab.research.google.com/github/yeraldinriscanevom-ui/-Regresion_Lineal/blob/main/Regresion_Lineal_ipynb_.ipynb\" target=\"_parent\"><img src=\"https://colab.research.google.com/assets/colab-badge.svg\" alt=\"Open In Colab\"/></a>"
      ]
    },
    {
      "cell_type": "markdown",
      "metadata": {
        "id": "Ii_7DdtJH8e2"
      },
      "source": [
        "# Taller 3: Regresión Lineal y Conceptos Fundamentales\n",
        "\n",
        "\n"
      ],
      "id": "Ii_7DdtJH8e2"
    },
    {
      "cell_type": "markdown",
      "metadata": {
        "id": "1KuTZ6PkH8e5"
      },
      "source": [
        "## Instrucciones Generales\n",
        "\n",
        "**Fecha de entrega:** 20 de septiembre.\n",
        "**Tiempo disponible:** Tienen dos clases y el fin de semana para completar el taller.\n",
        "\n",
        "1.  **Trabajo en Grupo:** Este taller se debe realizar en los grupos previamente definidos.\n",
        "2.  **Repositorio en GitHub:** Cada grupo debe crear un repositorio en GitHub.\n",
        "    * Una sola persona del grupo es responsable de crearlo.\n",
        "    * El repositorio debe llamarse **`Regresion_Lineal`**.\n",
        "    * Este archivo debe ser subido al repositorio con el nombre **`Regresion_Lineal.ipynb`**.\n",
        "    * **Alternativa:** Si tienen complicaciones con GitHub, pueden enviar el enlace del cuaderno de Google Colab al aula virtual.\n",
        "3.  **Actividad a Mano (20% de la nota):**\n",
        "    * La asistencia a clase es **obligatoria**.\n",
        "    * Se realizará una actividad práctica de regresión lineal a mano.\n",
        "    * Cada integrante del grupo deberá firmar la hoja de la actividad, la cual constituye el 20% de la nota de este taller."
      ],
      "id": "1KuTZ6PkH8e5"
    },
    {
      "cell_type": "markdown",
      "metadata": {
        "id": "mgaEeFAbH8e7"
      },
      "source": [
        "---"
      ],
      "id": "mgaEeFAbH8e7"
    },
    {
      "cell_type": "markdown",
      "metadata": {
        "id": "et22XL5bH8e7"
      },
      "source": [
        "## **Parte 1: Definición del Problema**\n",
        "\n",
        "Piensa en tu experiencia académica o laboral en un área de operaciones y elige **un problema** relacionado con inventarios, calidad, mantenimiento o productividad.\n",
        "\n",
        "1.  Indica cuál es tu variable dependiente **$Y$** (aquello que quieres predecir o clasificar).\n",
        "2.  Lista entre 3 y 5 variables independientes **$X$** que medirías para predecir $Y$.\n",
        "3.  Especifica si tu problema es de **regresión** (predecir un valor numérico) o de **clasificación**."
      ],
      "id": "et22XL5bH8e7"
    },
    {
      "cell_type": "markdown",
      "metadata": {
        "id": "pxSLPR4AH8e8"
      },
      "source": [
        "**Respuesta (escribe aquí):**\n",
        "Problema (contexto): En la operación de una aerolínea/courier en El Dorado, queremos predecir si un vuelo de carga que sale de un aeropuerto origen va a tener un retraso significativo en su llegada (> 2 horas), para activar contingencias (reprogramar logística, avisar clientes, coordinar aduana).\n",
        "\n",
        "**Respuesta 1:**\n",
        "Variable dependiente Y (a predecir / clasificar):\n",
        "1 = retraso significativo en llegada (> 2 horas)\n",
        "0 = no (≤ 2 horas)\n",
        "\n",
        "**Respuesta 2:**\n",
        "Variables independientes X (3–5 sugeridas):\n",
        "\n",
        "1.   CondicionClimaticaOrigen (categoría: Normal / Tormenta / BajaVisibilidad / VientoFuerte)\n",
        "\n",
        "1.   HoraSalida (hora local, o codificada en franjas pico/no pico)\n",
        "\n",
        "1.   CongestionAereaOrigen (número de movimientos en el slot, 0 % ocupación del aeropuerto)\n",
        "2. NumeroEscalas (0,1,2,...)  Elemento de lista\n",
        "\n",
        "\n",
        "2. TipoAeronave (categoría: narrowbody, widebody, carguero ligero — o características como velocidad crucero)\n",
        "\n",
        "**Respuesta 3:** Tipo de problema: Clasificación binaria."
      ],
      "id": "pxSLPR4AH8e8"
    },
    {
      "cell_type": "markdown",
      "metadata": {
        "id": "fGoj1KxxH8e8"
      },
      "source": [
        "---"
      ],
      "id": "fGoj1KxxH8e8"
    },
    {
      "cell_type": "markdown",
      "metadata": {
        "id": "eHOtOSQiH8e9"
      },
      "source": [
        "## **Parte 2: Preprocesamiento de Datos y *Leakage***\n",
        "\n",
        "Basado en el caso que definiste en la Parte 1:\n",
        "\n",
        "1.  Lista entre 3 y 5 **transformaciones** que aplicarías a tus datos (ej. imputación de valores faltantes, codificación de variables categóricas, escalado, creación de *lags*, etc.) y **justifica por qué** cada una es necesaria.\n",
        "2.  Señala un posible riesgo de ***data leakage*** (fuga de datos) en tu plan y explica cómo lo evitarías usando un *pipeline* de preprocesamiento."
      ],
      "id": "eHOtOSQiH8e9"
    },
    {
      "cell_type": "markdown",
      "metadata": {
        "id": "6KYkmr9mH8e9"
      },
      "source": [
        "**Respuesta (escribe aquí):**\n",
        "\n",
        "\n",
        "1.  ** Imputación de valores faltantes**\n",
        "\n",
        "Método: imputación por categoría (modo) para categóricas o por mediana para numéricas (p. ej. CongestionAereaOrigen).\n",
        "\n",
        "Justificación: los sensores o reportes meteorológicos pueden faltar; imputar evita perder filas útiles.\n",
        "\n",
        "2.  **Codificación de variables categóricas**\n",
        "\n",
        "Método: One-Hot Encoding para Condicion Climatica Origen y TipoAeronave; o Target Encoding si hay muchas categorías.\n",
        "\n",
        "Justificación: los modelos (logistic regression, tree-based) necesitan transformar categorías a formato numérico.\n",
        "\n",
        "3.  **Escalado de variables numéricas**\n",
        "\n",
        " (media 0, varianza 1) para CongestionAereaOrigen, NumeroEscalas si se usan modelos sensibles a escala (SVM, regresión logística regularizada).\n",
        "\n",
        "Justificación: mejora convergencia y hace coeficientes comparables.\n",
        "\n",
        "4.  **Creación de features temporales / binning**\n",
        "\n",
        "Ej.: transformar HoraSalida a FranjaHora (Madrugada/Mañana/Tarde/Noche) o usar sen/cos para componente cíclico.\n",
        "\n",
        "Justificación: captura efecto de horarios pico y comportamientos cíclicos.\n",
        "\n",
        "\n",
        "5. **Features históricos (lags)**\n",
        "\n",
        "Ej.: RetrasosPromedioUltimos7DiasOrigen, RetrasosMismoVueloUltimoMes.\n",
        "\n",
        "Justificación: patrones históricos del aeropuerto/slot/vuelo son predictivos.\n",
        "\n",
        "**Riesgo de data leakage (fuga) y cómo evitarlo con pipeline:**\n",
        "\n",
        "**Riesgo típico:**\n",
        "usar una variable que contiene información posterior al evento (por ejemplo, TiempoRealLlegada, o ReagendadoPorAduana) como predictor — o construir features que agreguen datos del futuro (p. ej. promedio móvil calculado usando toda la serie incluyendo la fecha objetivo).\n",
        "\n",
        "**Evitación práctica con pipeline**\n",
        "\n",
        "\n",
        "1.  Separación temporal train/test antes de cualquier transformación, sobre todo si los datos son temporales (usar split por fecha: últimos N días → test).\n",
        "2.   Construir un Pipeline (ej. con scikit-learn) que encadene: imputador → codificador → scaler → modelo, y ajustar/fit sólo sobre el set de entrenamiento.\n",
        "\n",
        "\n",
        "1.   Para features basadas en historial (lags), calcularlos usando sólo datos anteriores a la fecha de la observación (no usar future-looking windows).\n",
        "2.   Usar ColumnTransformer y Pipeline para que transformaciones no vean el test.\n",
        "Esto garantiza que información posterior no se filtre al entrenamiento ni a la validación.\n",
        "\n",
        "\n"
      ],
      "id": "6KYkmr9mH8e9"
    },
    {
      "cell_type": "markdown",
      "metadata": {
        "id": "hbyCKrY6H8e-"
      },
      "source": [
        "---"
      ],
      "id": "hbyCKrY6H8e-"
    },
    {
      "cell_type": "markdown",
      "metadata": {
        "id": "ukCTM2EKH8e-"
      },
      "source": [
        "## **Parte 3: Interpretación y Métricas de Regresión Simple**\n",
        "\n",
        "Para esta sección, elige un caso simple de regresión (puede ser el tuyo o uno hipotético, como predecir la demanda de un producto según su precio).\n",
        "\n",
        "1.  Define claramente las variables **$Y$** y **$X$** junto con sus **unidades** (ej. $Y$: número de unidades vendidas, $X$: precio en dólares).\n",
        "2.  Supón que entrenas un modelo y obtienes una pendiente de **$\\hat{\\beta}_1 = -0.6$**. Escribe una interpretación clara y concisa de este coeficiente en el contexto de tu problema.\n",
        "3.  ¿Qué **métrica** de evaluación usarías (MAE, RMSE, o MAPE) y **por qué** es la más adecuada para tu caso?\n",
        "4.  Menciona **un supuesto** del modelo de regresión lineal que validarías (ej. linealidad, homocedasticidad) y explica **cómo** lo harías (usando un gráfico o una prueba estadística)."
      ],
      "id": "ukCTM2EKH8e-"
    },
    {
      "cell_type": "markdown",
      "metadata": {
        "id": "5KGzW8pSH8e_"
      },
      "source": [
        "**Respuesta (escribe aquí):**\n",
        "\n",
        "**Caso simple (regresión)**: Predecir minutos de retraso (DelayMinutes) en función de HoraSalida (en minutos desde medianoche) — unidad: minutos.\n",
        "\n",
        "\n",
        "1. **Y**: DelayMinutes (minutos)\n",
        "2. **X**: DepartureDelayScheduled (minutos que el vuelo salió tarde en origen) — por ejemplo, el retraso real en la salida del aeropuerto origen.\n",
        "**Interpretación del coeficiente β̂¹ = 0.75:**\n",
        "Por cada minuto adicional de retraso en la salida (en origen), el retraso en la llegada aumenta en 0.75 minutos, manteniendo otras variables constantes. Es decir, si un vuelo sale 10 minutos más tarde, esperamos que su llegada se retrase en 7.5 minutos adicionales en promedio.\n",
        "\n",
        "**Métrica de evaluación (MAE, RMSE o MAPE) y justificación:**\n",
        "\n",
        "**Elegiría MAE** (Error Absoluto Medio) porque da una medida en las mismas unidades (minutos), es robusta frente a outliers extremos (comparada con RMSE) y fácil de interpretar para operaciones (p.ej. “en promedio nos equivocamos X minutos”).\n",
        "\n",
        "**RMSE** penaliza errores grandes (útil si errores grandes son críticamente costosos); MAPE no es apropiada si hay valores cercanos a cero de DelayMinutes.\n",
        "\n",
        "**Supuesto del modelo de regresión lineal a validar:**\n",
        "\n",
        "**Homoscedasticidad** (varianza constante de errores).\n",
        "\n",
        "**Cómo validarlo**: graficar residuos vs valores predichos; buscar patrón en abanico (heterocedasticidad). También se puede aplicar la prueba de Breusch-Pagan para formalizar la detección.\n",
        "\n"
      ],
      "id": "5KGzW8pSH8e_"
    },
    {
      "cell_type": "markdown",
      "metadata": {
        "id": "NlCf92svH8e_"
      },
      "source": [
        "---"
      ],
      "id": "NlCf92svH8e_"
    },
    {
      "cell_type": "markdown",
      "metadata": {
        "id": "DEOrd_fSH8e_"
      },
      "source": [
        "## **Parte 4: Regresión Múltiple y Colinealidad**\n",
        "\n",
        "Volviendo a tu caso de la Parte 1 (con múltiples variables).\n",
        "\n",
        "1.  Escribe el **vector de variables** $\\vec{X}$ y la **respuesta** $Y$.\n",
        "2.  Explica cómo interpretarías el **coeficiente** de una de tus variables clave (incluyendo unidades y el sentido de la relación: positiva o negativa).\n",
        "3.  Si sospecharas que existe **colinealidad** entre tus variables, menciona **dos acciones** que podrías tomar para mitigarla.\n",
        "\n",
        "\n",
        "\n"
      ],
      "id": "DEOrd_fSH8e_"
    },
    {
      "cell_type": "markdown",
      "metadata": {
        "id": "REUWPUP_H8fA"
      },
      "source": [
        "**Respuesta (escribe aquí):**\n",
        "\n",
        "(Adaptado al caso multivariable de tiempo de entrega o minutos de retraso; aquí mantenemos foco en retraso.)\n",
        "\n",
        "**Vector de variables X⃗ (ejemplo):**\n",
        "\n",
        "** X: **= [ CondicionClimaticaOrigen_cat*, HoraSalida_fr, CongestionAereaOrigen (movimientos/h), NumeroEscalas, TipoAeronave_cat* ]\n",
        "(* = variables categóricas codificadas como dummies)\n",
        "\n",
        "**Respuesta Y:** RetrasoSignificativo (en el caso de regresión múltiple alternativa podríamos usar DelayMinutes).\n",
        "\n",
        "**Interpretación de uno de los coeficientes** (ej.: NumeroEscalas en modelo de DelayMinutes):\n",
        "\n",
        "Supongamos coeficiente β̂_escalas = +65 (unidades: minutos).\n",
        "\n",
        "**Interpretación**: Manteniendo constantes las demás variables, cada escala adicional se asocia con un aumento promedio de 65 minutos en el retraso de llegada. Es una relación positiva: más escalas → más probabilidades de acumulación de retraso.\n",
        "\n",
        " **Si sospecho colinealidad entre variables, dos acciones para mitigarla**\n",
        "\n",
        "\n",
        "1.   **Eliminar o combinar variables altamente correlacionadas**: p. ej. si CongestionAereaOrigen y NúmeroVuelosSlot miden lo mismo, mantener sólo una.\n",
        "2.   **Regularización** (Ridge o Lasso) en la regresión logística/regresión lineal para estabilizar coeficientes; o usar técnicas como PCA para reducir dimensiones.\n",
        "\n"
      ],
      "id": "REUWPUP_H8fA"
    },
    {
      "cell_type": "markdown",
      "metadata": {
        "id": "Kfz2bBkzH8fA"
      },
      "source": [
        "---"
      ],
      "id": "Kfz2bBkzH8fA"
    },
    {
      "cell_type": "markdown",
      "metadata": {
        "id": "d0sQYW3DH8fA"
      },
      "source": [
        "## **Parte 5: Interacciones y Multicolinealidad (VIF)**\n",
        "\n",
        "1.  Plantea un caso con una variable $Y$ y entre 4 y 6 variables $X$. ¿Qué término de **interacción** entre dos variables podrías añadir al modelo y **por qué** crees que sería útil?\n",
        "2.  Si al calcular el Factor de Inflación de la Varianza (VIF) para una variable, obtienes un valor alto (ej. > 10), menciona **dos acciones** que podrías tomar para solucionarlo."
      ],
      "id": "d0sQYW3DH8fA"
    },
    {
      "cell_type": "markdown",
      "metadata": {
        "id": "tEgefQ1cH8fA"
      },
      "source": [
        "**Respuesta (escribe aquí):**\n",
        "\n",
        "Caso con 4–6 X (clasificación/regresión del retraso):\n",
        "\n",
        "1.  Y: DelayMinutes (regresión) o RetrasoSignificativo (clasificación)\n",
        "2.  X: [CongestionAereaOrigen, CondicionClimaticaOrigen_cat, HoraSalida_fr, NumeroEscalas, TipoAeronave_cat]\n",
        "\n",
        "**Término de interacción propuesto:**\n",
        "\n",
        "\n",
        "\n",
        "1.   CongestionAereaOrigen × CondicionClimaticaOrigen_Tormenta (es decir, interacción entre congestión y si hay tormenta).\n",
        "2.  Por qué es útil: El efecto de la congestión en el retraso probablemente sea mayor cuando hay condiciones climáticas adversas; la congestión y la mala meteorología combinadas amplifican las demoras\n",
        "\n",
        "**Si VIF > 10 para una variable (indica multicolinealidad alta): dos acciones a tomar:**\n",
        "\n",
        "Eliminar o transformar la variable que causa colinealidad (por ejemplo, quitar\n",
        "\n",
        "1. Eliminar o transformar la variable que causa colinealidad (por ejemplo, quitar una de las variables redundantes).\n",
        "2. Usar regresión regularizada (Ridge reduce varianza de coeficientes correlacionados) o aplicar PCA y usar componentes en lugar de las variables originales."
      ],
      "id": "tEgefQ1cH8fA"
    },
    {
      "cell_type": "markdown",
      "metadata": {
        "id": "8XdQIyu_H8fB"
      },
      "source": [
        "---"
      ],
      "id": "8XdQIyu_H8fB"
    },
    {
      "cell_type": "markdown",
      "metadata": {
        "id": "XKsr-uPlH8fB"
      },
      "source": [
        "## **Parte 6: Variables Categóricas e Interacciones**\n",
        "\n",
        "1.  Define una **variable categórica** para tu caso (puedes inventarla si no la tenías). Elige una de sus categorías como el nivel **base** o de referencia y **justifica** tu elección.\n",
        "2.  Crea una **interacción** entre una variable numérica y la variable categórica que definiste. Explica cómo se interpretaría el coeficiente de esta interacción."
      ],
      "id": "XKsr-uPlH8fB"
    },
    {
      "cell_type": "markdown",
      "metadata": {
        "id": "7i_JBwwbH8fC"
      },
      "source": [
        "**Respuesta (escribe aquí):**\n",
        "\n",
        "**Variable categórica (definida):** TipoMercancia (General, Perecedera, Peligrosa, Documentos) — en logística aérea puede afectar inspecciones y tiempos.\n",
        "\n",
        "\n",
        "\n",
        "*   Nivel base referencia: General\n",
        "*   Justificación: es la categoría más frecuente; elegir base la categoría más común facilita interpretar coeficientes como \"efecto adicional respecto a lo típico\".\n",
        "\n",
        "**Interacción entre variable numérica y categórica:**\n",
        "\n",
        "\n",
        "\n",
        "*   Interacción: PesoEnvio X TipoMercancia_Perecedera\n",
        "\n",
        "*   Interpretación del coeficiente de la interacción:\n",
        "\n",
        "*   Supongamos coeficiente de interacción = +0.05 horas/kg.\n",
        "*   Interpretación: para envíos perecederos, cada kg adicional incrementa el tiempo total de manipulación/entrega en 0.05 horas más (3 minutos) adicionales respecto al efecto por kg de un envío General. Es decir, el impacto del peso en el tiempo depende del tipo de mercancía; para perecederos el efecto es mayor por controles de temperatura y manejo especial."
      ],
      "id": "7i_JBwwbH8fC"
    },
    {
      "cell_type": "markdown",
      "metadata": {
        "id": "DjYrQWpqH8fC"
      },
      "source": [
        "---"
      ],
      "id": "DjYrQWpqH8fC"
    },
    {
      "cell_type": "markdown",
      "metadata": {
        "id": "mG9YJpeoH8fC"
      },
      "source": [
        "## **Parte 7: Conceptos Clave de Clasificación**\n",
        "\n",
        "Aunque el taller se centra en regresión, estos conceptos son fundamentales en Machine Learning.\n",
        "\n",
        "1.  Explica qué es la **curva ROC** y para qué se utiliza en un problema de clasificación.\n",
        "2.  Define el concepto de **accuracy** (exactitud) y menciona una situación en la que podría ser una métrica engañosa.\n",
        "3.  Describe qué es una **matriz de confusión** y cómo se interpretan sus componentes (Verdaderos Positivos, Falsos Positivos, Verdaderos Negativos, Falsos Negativos)."
      ],
      "id": "mG9YJpeoH8fC"
    },
    {
      "cell_type": "markdown",
      "metadata": {
        "id": "aq-cYN3nH8fD"
      },
      "source": [
        "**Respuesta (escribe aquí):**\n",
        "\n",
        "1.   **Curva ROC (Receiver Operating Characteristic)**\n",
        "\n",
        "\n",
        "*  **Qué es:** gráfico que muestra la tasa de verdaderos positivos (TPR, sensibilidad) frente a la tasa de falsos positivos (FPR) para distintos umbrales de clasificación.\n",
        "\n",
        "*  **Uso** en nuestro problema: permite evaluar la capacidad del modelo para distinguir vuelos retrasados (positivos) de no retrasados, independientemente del umbral elegido. El AUC (área bajo la curva) resume el desempeño (AUC=1 perfecto, 0.5 aleatorio).\n",
        "\n",
        "2.   **Accuracy (exactitud)**\n",
        "\n",
        "\n",
        "*   **Definición:** proporción de predicciones correctas: (TP + TN) / total.\n",
        "*   **Cuándo es engañosa:** si hay clase desbalanceada (p. ej. solo 5% vuelos con retraso >2h), un modelo que predice siempre “no retraso” tendrá 95% accuracy pero 0% sensibilidad — por eso debemos mirar precisión/recall/AUC\n",
        "\n",
        "\n",
        "3.   **Matriz de confusión**\n",
        " **Componentes e interpretación:**\n",
        "\n",
        " *   **Verdaderos Positivos (VP / TP)** :modelo predijo retraso (1) y hubo retraso (>2h).\n",
        "\n",
        "*   **Falsos Positivos (FP):** predijo retraso pero no lo hubo (alarmas innecesarias).\n",
        "\n",
        "*  **Falsos Negativos (FN):** predijo no retraso pero sí hubo retraso (falló en detectar un problema).\n",
        "\n",
        "Importancia operacional: en logística, FN puede ser costoso (no avisar a cliente, cadena rota). Dependiendo del costo relativo, ajustamos el umbral para priorizar recall (capturar la mayoría de retrasos) o precision (evitar falsas alarmas).\n",
        "\n",
        "**Métricas recomendadas para evaluación en este caso**\n",
        "\n",
        "*  **Recall (sensibilidad)** : importante si queremos detectar la mayoría de retrasos (minimizar FN).\n",
        "\n",
        "*  **Precision:** importante si falsas alarmas tienen costo (reprogramaciones innecesarias).\n",
        "\n",
        "*  **F1-score:**  compromiso entre precision y recall.\n",
        "\n",
        "*  **AUC-ROC:** evaluar discriminación general.\n",
        "\n",
        "*  **Matriz de confusión**  para ver números absolutos.\n",
        "\n",
        " *  **Curva Precision-Recall**  si la clase positiva es rara (más informativa que ROC en alto desbalance)."
      ],
      "id": "aq-cYN3nH8fD"
    }
  ],
  "metadata": {
    "kernelspec": {
      "display_name": "Python 3",
      "language": "python",
      "name": "python3"
    },
    "language_info": {
      "name": "python",
      "version": "3.x"
    },
    "colab": {
      "provenance": [],
      "include_colab_link": true
    }
  },
  "nbformat": 4,
  "nbformat_minor": 5
}